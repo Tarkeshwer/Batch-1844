{
 "cells": [
  {
   "cell_type": "markdown",
   "id": "c4ac3c4f",
   "metadata": {},
   "source": [
    "# Big Data Mart Sales Problem"
   ]
  },
  {
   "cell_type": "markdown",
   "id": "4c1dcdf2",
   "metadata": {},
   "source": [
    "# Problem Statement:\n",
    "The data scientists at BigMart have collected 2013 sales data for 1559 products across 10 stores in different cities. Also, certain attributes of each product and store have been defined. The aim is to build a predictive model and find out the sales of each product at a particular store.\n",
    "\n",
    "Using this model, BigMart will try to understand the properties of products and stores which play a key role in increasing the sales of their products.\n",
    "\n",
    "The dataset includes two files:\n",
    "\n",
    "- bigdatamart_Train.csv: Use this file for the model building purpose. \n",
    "\n",
    "- bigdatamart_Test.csv: Use this file for getting predictions from the trained model. "
   ]
  },
  {
   "cell_type": "code",
   "execution_count": 201,
   "id": "d3cfb296",
   "metadata": {},
   "outputs": [
    {
     "ename": "NameError",
     "evalue": "name 'warning' is not defined",
     "output_type": "error",
     "traceback": [
      "\u001b[1;31m---------------------------------------------------------------------------\u001b[0m",
      "\u001b[1;31mNameError\u001b[0m                                 Traceback (most recent call last)",
      "Input \u001b[1;32mIn [201]\u001b[0m, in \u001b[0;36m<cell line: 7>\u001b[1;34m()\u001b[0m\n\u001b[0;32m      5\u001b[0m \u001b[38;5;28;01mimport\u001b[39;00m \u001b[38;5;21;01mwarnings\u001b[39;00m\n\u001b[0;32m      6\u001b[0m get_ipython()\u001b[38;5;241m.\u001b[39mrun_line_magic(\u001b[38;5;124m'\u001b[39m\u001b[38;5;124mmatplotlib\u001b[39m\u001b[38;5;124m'\u001b[39m, \u001b[38;5;124m'\u001b[39m\u001b[38;5;124minline\u001b[39m\u001b[38;5;124m'\u001b[39m)\n\u001b[1;32m----> 7\u001b[0m \u001b[43mwarning\u001b[49m\u001b[38;5;241m.\u001b[39mfilterwarnings(\u001b[38;5;124m'\u001b[39m\u001b[38;5;124mignore\u001b[39m\u001b[38;5;124m'\u001b[39m)\n",
      "\u001b[1;31mNameError\u001b[0m: name 'warning' is not defined"
     ]
    }
   ],
   "source": [
    "import pandas as pd\n",
    "import numpy as np\n",
    "import matplotlib.pyplot as plt\n",
    "import seaborn as sns\n",
    "import warnings\n",
    "%matplotlib inline\n",
    "warning.filterwarnings('ignore')"
   ]
  },
  {
   "cell_type": "code",
   "execution_count": 22,
   "id": "f7ff7367",
   "metadata": {},
   "outputs": [
    {
     "data": {
      "text/html": [
       "<div>\n",
       "<style scoped>\n",
       "    .dataframe tbody tr th:only-of-type {\n",
       "        vertical-align: middle;\n",
       "    }\n",
       "\n",
       "    .dataframe tbody tr th {\n",
       "        vertical-align: top;\n",
       "    }\n",
       "\n",
       "    .dataframe thead th {\n",
       "        text-align: right;\n",
       "    }\n",
       "</style>\n",
       "<table border=\"1\" class=\"dataframe\">\n",
       "  <thead>\n",
       "    <tr style=\"text-align: right;\">\n",
       "      <th></th>\n",
       "      <th>Item_Identifier</th>\n",
       "      <th>Item_Weight</th>\n",
       "      <th>Item_Fat_Content</th>\n",
       "      <th>Item_Visibility</th>\n",
       "      <th>Item_Type</th>\n",
       "      <th>Item_MRP</th>\n",
       "      <th>Outlet_Identifier</th>\n",
       "      <th>Outlet_Establishment_Year</th>\n",
       "      <th>Outlet_Size</th>\n",
       "      <th>Outlet_Location_Type</th>\n",
       "      <th>Outlet_Type</th>\n",
       "      <th>Item_Outlet_Sales</th>\n",
       "    </tr>\n",
       "  </thead>\n",
       "  <tbody>\n",
       "    <tr>\n",
       "      <th>0</th>\n",
       "      <td>FDA15</td>\n",
       "      <td>9.300</td>\n",
       "      <td>Low Fat</td>\n",
       "      <td>0.016047</td>\n",
       "      <td>Dairy</td>\n",
       "      <td>249.8092</td>\n",
       "      <td>OUT049</td>\n",
       "      <td>1999</td>\n",
       "      <td>Medium</td>\n",
       "      <td>Tier 1</td>\n",
       "      <td>Supermarket Type1</td>\n",
       "      <td>3735.1380</td>\n",
       "    </tr>\n",
       "    <tr>\n",
       "      <th>1</th>\n",
       "      <td>DRC01</td>\n",
       "      <td>5.920</td>\n",
       "      <td>Regular</td>\n",
       "      <td>0.019278</td>\n",
       "      <td>Soft Drinks</td>\n",
       "      <td>48.2692</td>\n",
       "      <td>OUT018</td>\n",
       "      <td>2009</td>\n",
       "      <td>Medium</td>\n",
       "      <td>Tier 3</td>\n",
       "      <td>Supermarket Type2</td>\n",
       "      <td>443.4228</td>\n",
       "    </tr>\n",
       "    <tr>\n",
       "      <th>2</th>\n",
       "      <td>FDN15</td>\n",
       "      <td>17.500</td>\n",
       "      <td>Low Fat</td>\n",
       "      <td>0.016760</td>\n",
       "      <td>Meat</td>\n",
       "      <td>141.6180</td>\n",
       "      <td>OUT049</td>\n",
       "      <td>1999</td>\n",
       "      <td>Medium</td>\n",
       "      <td>Tier 1</td>\n",
       "      <td>Supermarket Type1</td>\n",
       "      <td>2097.2700</td>\n",
       "    </tr>\n",
       "    <tr>\n",
       "      <th>3</th>\n",
       "      <td>FDX07</td>\n",
       "      <td>19.200</td>\n",
       "      <td>Regular</td>\n",
       "      <td>0.000000</td>\n",
       "      <td>Fruits and Vegetables</td>\n",
       "      <td>182.0950</td>\n",
       "      <td>OUT010</td>\n",
       "      <td>1998</td>\n",
       "      <td>NaN</td>\n",
       "      <td>Tier 3</td>\n",
       "      <td>Grocery Store</td>\n",
       "      <td>732.3800</td>\n",
       "    </tr>\n",
       "    <tr>\n",
       "      <th>4</th>\n",
       "      <td>NCD19</td>\n",
       "      <td>8.930</td>\n",
       "      <td>Low Fat</td>\n",
       "      <td>0.000000</td>\n",
       "      <td>Household</td>\n",
       "      <td>53.8614</td>\n",
       "      <td>OUT013</td>\n",
       "      <td>1987</td>\n",
       "      <td>High</td>\n",
       "      <td>Tier 3</td>\n",
       "      <td>Supermarket Type1</td>\n",
       "      <td>994.7052</td>\n",
       "    </tr>\n",
       "    <tr>\n",
       "      <th>...</th>\n",
       "      <td>...</td>\n",
       "      <td>...</td>\n",
       "      <td>...</td>\n",
       "      <td>...</td>\n",
       "      <td>...</td>\n",
       "      <td>...</td>\n",
       "      <td>...</td>\n",
       "      <td>...</td>\n",
       "      <td>...</td>\n",
       "      <td>...</td>\n",
       "      <td>...</td>\n",
       "      <td>...</td>\n",
       "    </tr>\n",
       "    <tr>\n",
       "      <th>8518</th>\n",
       "      <td>FDF22</td>\n",
       "      <td>6.865</td>\n",
       "      <td>Low Fat</td>\n",
       "      <td>0.056783</td>\n",
       "      <td>Snack Foods</td>\n",
       "      <td>214.5218</td>\n",
       "      <td>OUT013</td>\n",
       "      <td>1987</td>\n",
       "      <td>High</td>\n",
       "      <td>Tier 3</td>\n",
       "      <td>Supermarket Type1</td>\n",
       "      <td>2778.3834</td>\n",
       "    </tr>\n",
       "    <tr>\n",
       "      <th>8519</th>\n",
       "      <td>FDS36</td>\n",
       "      <td>8.380</td>\n",
       "      <td>Regular</td>\n",
       "      <td>0.046982</td>\n",
       "      <td>Baking Goods</td>\n",
       "      <td>108.1570</td>\n",
       "      <td>OUT045</td>\n",
       "      <td>2002</td>\n",
       "      <td>NaN</td>\n",
       "      <td>Tier 2</td>\n",
       "      <td>Supermarket Type1</td>\n",
       "      <td>549.2850</td>\n",
       "    </tr>\n",
       "    <tr>\n",
       "      <th>8520</th>\n",
       "      <td>NCJ29</td>\n",
       "      <td>10.600</td>\n",
       "      <td>Low Fat</td>\n",
       "      <td>0.035186</td>\n",
       "      <td>Health and Hygiene</td>\n",
       "      <td>85.1224</td>\n",
       "      <td>OUT035</td>\n",
       "      <td>2004</td>\n",
       "      <td>Small</td>\n",
       "      <td>Tier 2</td>\n",
       "      <td>Supermarket Type1</td>\n",
       "      <td>1193.1136</td>\n",
       "    </tr>\n",
       "    <tr>\n",
       "      <th>8521</th>\n",
       "      <td>FDN46</td>\n",
       "      <td>7.210</td>\n",
       "      <td>Regular</td>\n",
       "      <td>0.145221</td>\n",
       "      <td>Snack Foods</td>\n",
       "      <td>103.1332</td>\n",
       "      <td>OUT018</td>\n",
       "      <td>2009</td>\n",
       "      <td>Medium</td>\n",
       "      <td>Tier 3</td>\n",
       "      <td>Supermarket Type2</td>\n",
       "      <td>1845.5976</td>\n",
       "    </tr>\n",
       "    <tr>\n",
       "      <th>8522</th>\n",
       "      <td>DRG01</td>\n",
       "      <td>14.800</td>\n",
       "      <td>Low Fat</td>\n",
       "      <td>0.044878</td>\n",
       "      <td>Soft Drinks</td>\n",
       "      <td>75.4670</td>\n",
       "      <td>OUT046</td>\n",
       "      <td>1997</td>\n",
       "      <td>Small</td>\n",
       "      <td>Tier 1</td>\n",
       "      <td>Supermarket Type1</td>\n",
       "      <td>765.6700</td>\n",
       "    </tr>\n",
       "  </tbody>\n",
       "</table>\n",
       "<p>8523 rows × 12 columns</p>\n",
       "</div>"
      ],
      "text/plain": [
       "     Item_Identifier  Item_Weight Item_Fat_Content  Item_Visibility  \\\n",
       "0              FDA15        9.300          Low Fat         0.016047   \n",
       "1              DRC01        5.920          Regular         0.019278   \n",
       "2              FDN15       17.500          Low Fat         0.016760   \n",
       "3              FDX07       19.200          Regular         0.000000   \n",
       "4              NCD19        8.930          Low Fat         0.000000   \n",
       "...              ...          ...              ...              ...   \n",
       "8518           FDF22        6.865          Low Fat         0.056783   \n",
       "8519           FDS36        8.380          Regular         0.046982   \n",
       "8520           NCJ29       10.600          Low Fat         0.035186   \n",
       "8521           FDN46        7.210          Regular         0.145221   \n",
       "8522           DRG01       14.800          Low Fat         0.044878   \n",
       "\n",
       "                  Item_Type  Item_MRP Outlet_Identifier  \\\n",
       "0                     Dairy  249.8092            OUT049   \n",
       "1               Soft Drinks   48.2692            OUT018   \n",
       "2                      Meat  141.6180            OUT049   \n",
       "3     Fruits and Vegetables  182.0950            OUT010   \n",
       "4                 Household   53.8614            OUT013   \n",
       "...                     ...       ...               ...   \n",
       "8518            Snack Foods  214.5218            OUT013   \n",
       "8519           Baking Goods  108.1570            OUT045   \n",
       "8520     Health and Hygiene   85.1224            OUT035   \n",
       "8521            Snack Foods  103.1332            OUT018   \n",
       "8522            Soft Drinks   75.4670            OUT046   \n",
       "\n",
       "      Outlet_Establishment_Year Outlet_Size Outlet_Location_Type  \\\n",
       "0                          1999      Medium               Tier 1   \n",
       "1                          2009      Medium               Tier 3   \n",
       "2                          1999      Medium               Tier 1   \n",
       "3                          1998         NaN               Tier 3   \n",
       "4                          1987        High               Tier 3   \n",
       "...                         ...         ...                  ...   \n",
       "8518                       1987        High               Tier 3   \n",
       "8519                       2002         NaN               Tier 2   \n",
       "8520                       2004       Small               Tier 2   \n",
       "8521                       2009      Medium               Tier 3   \n",
       "8522                       1997       Small               Tier 1   \n",
       "\n",
       "            Outlet_Type  Item_Outlet_Sales  \n",
       "0     Supermarket Type1          3735.1380  \n",
       "1     Supermarket Type2           443.4228  \n",
       "2     Supermarket Type1          2097.2700  \n",
       "3         Grocery Store           732.3800  \n",
       "4     Supermarket Type1           994.7052  \n",
       "...                 ...                ...  \n",
       "8518  Supermarket Type1          2778.3834  \n",
       "8519  Supermarket Type1           549.2850  \n",
       "8520  Supermarket Type1          1193.1136  \n",
       "8521  Supermarket Type2          1845.5976  \n",
       "8522  Supermarket Type1           765.6700  \n",
       "\n",
       "[8523 rows x 12 columns]"
      ]
     },
     "execution_count": 22,
     "metadata": {},
     "output_type": "execute_result"
    }
   ],
   "source": [
    "df_train = pd.read_csv(\"https://raw.githubusercontent.com/dsrscientist/bigdatamart_rep/master/bigdatamart_Train.csv\")\n",
    "df_train"
   ]
  },
  {
   "cell_type": "code",
   "execution_count": 23,
   "id": "a70b14bf",
   "metadata": {},
   "outputs": [
    {
     "data": {
      "text/html": [
       "<div>\n",
       "<style scoped>\n",
       "    .dataframe tbody tr th:only-of-type {\n",
       "        vertical-align: middle;\n",
       "    }\n",
       "\n",
       "    .dataframe tbody tr th {\n",
       "        vertical-align: top;\n",
       "    }\n",
       "\n",
       "    .dataframe thead th {\n",
       "        text-align: right;\n",
       "    }\n",
       "</style>\n",
       "<table border=\"1\" class=\"dataframe\">\n",
       "  <thead>\n",
       "    <tr style=\"text-align: right;\">\n",
       "      <th></th>\n",
       "      <th>Item_Weight</th>\n",
       "      <th>Item_Visibility</th>\n",
       "      <th>Item_MRP</th>\n",
       "      <th>Outlet_Establishment_Year</th>\n",
       "      <th>Item_Outlet_Sales</th>\n",
       "    </tr>\n",
       "  </thead>\n",
       "  <tbody>\n",
       "    <tr>\n",
       "      <th>count</th>\n",
       "      <td>7060.000000</td>\n",
       "      <td>8523.000000</td>\n",
       "      <td>8523.000000</td>\n",
       "      <td>8523.000000</td>\n",
       "      <td>8523.000000</td>\n",
       "    </tr>\n",
       "    <tr>\n",
       "      <th>mean</th>\n",
       "      <td>12.857645</td>\n",
       "      <td>0.066132</td>\n",
       "      <td>140.992782</td>\n",
       "      <td>1997.831867</td>\n",
       "      <td>2181.288914</td>\n",
       "    </tr>\n",
       "    <tr>\n",
       "      <th>std</th>\n",
       "      <td>4.643456</td>\n",
       "      <td>0.051598</td>\n",
       "      <td>62.275067</td>\n",
       "      <td>8.371760</td>\n",
       "      <td>1706.499616</td>\n",
       "    </tr>\n",
       "    <tr>\n",
       "      <th>min</th>\n",
       "      <td>4.555000</td>\n",
       "      <td>0.000000</td>\n",
       "      <td>31.290000</td>\n",
       "      <td>1985.000000</td>\n",
       "      <td>33.290000</td>\n",
       "    </tr>\n",
       "    <tr>\n",
       "      <th>25%</th>\n",
       "      <td>8.773750</td>\n",
       "      <td>0.026989</td>\n",
       "      <td>93.826500</td>\n",
       "      <td>1987.000000</td>\n",
       "      <td>834.247400</td>\n",
       "    </tr>\n",
       "    <tr>\n",
       "      <th>50%</th>\n",
       "      <td>12.600000</td>\n",
       "      <td>0.053931</td>\n",
       "      <td>143.012800</td>\n",
       "      <td>1999.000000</td>\n",
       "      <td>1794.331000</td>\n",
       "    </tr>\n",
       "    <tr>\n",
       "      <th>75%</th>\n",
       "      <td>16.850000</td>\n",
       "      <td>0.094585</td>\n",
       "      <td>185.643700</td>\n",
       "      <td>2004.000000</td>\n",
       "      <td>3101.296400</td>\n",
       "    </tr>\n",
       "    <tr>\n",
       "      <th>max</th>\n",
       "      <td>21.350000</td>\n",
       "      <td>0.328391</td>\n",
       "      <td>266.888400</td>\n",
       "      <td>2009.000000</td>\n",
       "      <td>13086.964800</td>\n",
       "    </tr>\n",
       "  </tbody>\n",
       "</table>\n",
       "</div>"
      ],
      "text/plain": [
       "       Item_Weight  Item_Visibility     Item_MRP  Outlet_Establishment_Year  \\\n",
       "count  7060.000000      8523.000000  8523.000000                8523.000000   \n",
       "mean     12.857645         0.066132   140.992782                1997.831867   \n",
       "std       4.643456         0.051598    62.275067                   8.371760   \n",
       "min       4.555000         0.000000    31.290000                1985.000000   \n",
       "25%       8.773750         0.026989    93.826500                1987.000000   \n",
       "50%      12.600000         0.053931   143.012800                1999.000000   \n",
       "75%      16.850000         0.094585   185.643700                2004.000000   \n",
       "max      21.350000         0.328391   266.888400                2009.000000   \n",
       "\n",
       "       Item_Outlet_Sales  \n",
       "count        8523.000000  \n",
       "mean         2181.288914  \n",
       "std          1706.499616  \n",
       "min            33.290000  \n",
       "25%           834.247400  \n",
       "50%          1794.331000  \n",
       "75%          3101.296400  \n",
       "max         13086.964800  "
      ]
     },
     "execution_count": 23,
     "metadata": {},
     "output_type": "execute_result"
    }
   ],
   "source": [
    "# Statical Information\n",
    "df_train.describe()"
   ]
  },
  {
   "cell_type": "code",
   "execution_count": 24,
   "id": "4acbf11f",
   "metadata": {},
   "outputs": [
    {
     "name": "stdout",
     "output_type": "stream",
     "text": [
      "<class 'pandas.core.frame.DataFrame'>\n",
      "RangeIndex: 8523 entries, 0 to 8522\n",
      "Data columns (total 12 columns):\n",
      " #   Column                     Non-Null Count  Dtype  \n",
      "---  ------                     --------------  -----  \n",
      " 0   Item_Identifier            8523 non-null   object \n",
      " 1   Item_Weight                7060 non-null   float64\n",
      " 2   Item_Fat_Content           8523 non-null   object \n",
      " 3   Item_Visibility            8523 non-null   float64\n",
      " 4   Item_Type                  8523 non-null   object \n",
      " 5   Item_MRP                   8523 non-null   float64\n",
      " 6   Outlet_Identifier          8523 non-null   object \n",
      " 7   Outlet_Establishment_Year  8523 non-null   int64  \n",
      " 8   Outlet_Size                6113 non-null   object \n",
      " 9   Outlet_Location_Type       8523 non-null   object \n",
      " 10  Outlet_Type                8523 non-null   object \n",
      " 11  Item_Outlet_Sales          8523 non-null   float64\n",
      "dtypes: float64(4), int64(1), object(7)\n",
      "memory usage: 799.2+ KB\n"
     ]
    }
   ],
   "source": [
    "# Data type of attributes\n",
    "df_train.info()"
   ]
  },
  {
   "cell_type": "code",
   "execution_count": 28,
   "id": "4d5cfd08",
   "metadata": {},
   "outputs": [
    {
     "data": {
      "text/plain": [
       "Item_Identifier              1559\n",
       "Item_Weight                   416\n",
       "Item_Fat_Content                5\n",
       "Item_Visibility              7880\n",
       "Item_Type                      16\n",
       "Item_MRP                     5938\n",
       "Outlet_Identifier              10\n",
       "Outlet_Establishment_Year       9\n",
       "Outlet_Size                     4\n",
       "Outlet_Location_Type            3\n",
       "Outlet_Type                     4\n",
       "Item_Outlet_Sales            3493\n",
       "dtype: int64"
      ]
     },
     "execution_count": 28,
     "metadata": {},
     "output_type": "execute_result"
    }
   ],
   "source": [
    "# Check unique values in data set\n",
    "df_train.apply(lambda x: len(x.unique()))"
   ]
  },
  {
   "cell_type": "markdown",
   "id": "2df80e2d",
   "metadata": {},
   "source": [
    "# Preprocessing of Data Set"
   ]
  },
  {
   "cell_type": "code",
   "execution_count": 31,
   "id": "d2d17607",
   "metadata": {},
   "outputs": [
    {
     "data": {
      "text/plain": [
       "Item_Identifier                 0\n",
       "Item_Weight                  1463\n",
       "Item_Fat_Content                0\n",
       "Item_Visibility                 0\n",
       "Item_Type                       0\n",
       "Item_MRP                        0\n",
       "Outlet_Identifier               0\n",
       "Outlet_Establishment_Year       0\n",
       "Outlet_Size                  2410\n",
       "Outlet_Location_Type            0\n",
       "Outlet_Type                     0\n",
       "Item_Outlet_Sales               0\n",
       "dtype: int64"
      ]
     },
     "execution_count": 31,
     "metadata": {},
     "output_type": "execute_result"
    }
   ],
   "source": [
    "# Check for null values:\n",
    "df_train.isnull().sum()"
   ]
  },
  {
   "cell_type": "code",
   "execution_count": 34,
   "id": "16e269f8",
   "metadata": {},
   "outputs": [
    {
     "data": {
      "text/plain": [
       "['Item_Identifier',\n",
       " 'Item_Fat_Content',\n",
       " 'Item_Type',\n",
       " 'Outlet_Identifier',\n",
       " 'Outlet_Size',\n",
       " 'Outlet_Location_Type',\n",
       " 'Outlet_Type']"
      ]
     },
     "execution_count": 34,
     "metadata": {},
     "output_type": "execute_result"
    }
   ],
   "source": [
    "# Check for Categorical attribute:\n",
    "cat_col = []\n",
    "for x in df_train.dtypes.index:\n",
    "    if df_train.dtypes[x]=='object':\n",
    "        cat_col.append(x)\n",
    "cat_col"
   ]
  },
  {
   "cell_type": "code",
   "execution_count": 35,
   "id": "2cfed70f",
   "metadata": {},
   "outputs": [
    {
     "data": {
      "text/plain": [
       "['Item_Fat_Content',\n",
       " 'Item_Type',\n",
       " 'Outlet_Identifier',\n",
       " 'Outlet_Location_Type',\n",
       " 'Outlet_Type']"
      ]
     },
     "execution_count": 35,
     "metadata": {},
     "output_type": "execute_result"
    }
   ],
   "source": [
    "cat_col.remove('Item_Identifier')\n",
    "cat_col.remove('Outlet_Size')\n",
    "cat_col"
   ]
  },
  {
   "cell_type": "code",
   "execution_count": 40,
   "id": "a9254ecf",
   "metadata": {},
   "outputs": [
    {
     "name": "stdout",
     "output_type": "stream",
     "text": [
      "Item_Fat_Content\n",
      "Low Fat    5089\n",
      "Regular    2889\n",
      "LF          316\n",
      "reg         117\n",
      "low fat     112\n",
      "Name: Item_Fat_Content, dtype: int64\n",
      "\n",
      "Item_Type\n",
      "Fruits and Vegetables    1232\n",
      "Snack Foods              1200\n",
      "Household                 910\n",
      "Frozen Foods              856\n",
      "Dairy                     682\n",
      "Canned                    649\n",
      "Baking Goods              648\n",
      "Health and Hygiene        520\n",
      "Soft Drinks               445\n",
      "Meat                      425\n",
      "Breads                    251\n",
      "Hard Drinks               214\n",
      "Others                    169\n",
      "Starchy Foods             148\n",
      "Breakfast                 110\n",
      "Seafood                    64\n",
      "Name: Item_Type, dtype: int64\n",
      "\n",
      "Outlet_Identifier\n",
      "OUT027    935\n",
      "OUT013    932\n",
      "OUT049    930\n",
      "OUT046    930\n",
      "OUT035    930\n",
      "OUT045    929\n",
      "OUT018    928\n",
      "OUT017    926\n",
      "OUT010    555\n",
      "OUT019    528\n",
      "Name: Outlet_Identifier, dtype: int64\n",
      "\n",
      "Outlet_Location_Type\n",
      "Tier 3    3350\n",
      "Tier 2    2785\n",
      "Tier 1    2388\n",
      "Name: Outlet_Location_Type, dtype: int64\n",
      "\n",
      "Outlet_Type\n",
      "Supermarket Type1    5577\n",
      "Grocery Store        1083\n",
      "Supermarket Type3     935\n",
      "Supermarket Type2     928\n",
      "Name: Outlet_Type, dtype: int64\n",
      "\n"
     ]
    }
   ],
   "source": [
    "# Print Categorical Columns:\n",
    "for col in cat_col:\n",
    "    print(col)\n",
    "    print(df_train[col].value_counts())\n",
    "    print()"
   ]
  },
  {
   "cell_type": "code",
   "execution_count": 42,
   "id": "f098a155",
   "metadata": {},
   "outputs": [
    {
     "data": {
      "text/html": [
       "<div>\n",
       "<style scoped>\n",
       "    .dataframe tbody tr th:only-of-type {\n",
       "        vertical-align: middle;\n",
       "    }\n",
       "\n",
       "    .dataframe tbody tr th {\n",
       "        vertical-align: top;\n",
       "    }\n",
       "\n",
       "    .dataframe thead th {\n",
       "        text-align: right;\n",
       "    }\n",
       "</style>\n",
       "<table border=\"1\" class=\"dataframe\">\n",
       "  <thead>\n",
       "    <tr style=\"text-align: right;\">\n",
       "      <th></th>\n",
       "      <th>Item_Weight</th>\n",
       "    </tr>\n",
       "    <tr>\n",
       "      <th>Item_Identifier</th>\n",
       "      <th></th>\n",
       "    </tr>\n",
       "  </thead>\n",
       "  <tbody>\n",
       "    <tr>\n",
       "      <th>DRA12</th>\n",
       "      <td>11.600</td>\n",
       "    </tr>\n",
       "    <tr>\n",
       "      <th>DRA24</th>\n",
       "      <td>19.350</td>\n",
       "    </tr>\n",
       "    <tr>\n",
       "      <th>DRA59</th>\n",
       "      <td>8.270</td>\n",
       "    </tr>\n",
       "    <tr>\n",
       "      <th>DRB01</th>\n",
       "      <td>7.390</td>\n",
       "    </tr>\n",
       "    <tr>\n",
       "      <th>DRB13</th>\n",
       "      <td>6.115</td>\n",
       "    </tr>\n",
       "    <tr>\n",
       "      <th>...</th>\n",
       "      <td>...</td>\n",
       "    </tr>\n",
       "    <tr>\n",
       "      <th>NCZ30</th>\n",
       "      <td>6.590</td>\n",
       "    </tr>\n",
       "    <tr>\n",
       "      <th>NCZ41</th>\n",
       "      <td>19.850</td>\n",
       "    </tr>\n",
       "    <tr>\n",
       "      <th>NCZ42</th>\n",
       "      <td>10.500</td>\n",
       "    </tr>\n",
       "    <tr>\n",
       "      <th>NCZ53</th>\n",
       "      <td>9.600</td>\n",
       "    </tr>\n",
       "    <tr>\n",
       "      <th>NCZ54</th>\n",
       "      <td>14.650</td>\n",
       "    </tr>\n",
       "  </tbody>\n",
       "</table>\n",
       "<p>1555 rows × 1 columns</p>\n",
       "</div>"
      ],
      "text/plain": [
       "                 Item_Weight\n",
       "Item_Identifier             \n",
       "DRA12                 11.600\n",
       "DRA24                 19.350\n",
       "DRA59                  8.270\n",
       "DRB01                  7.390\n",
       "DRB13                  6.115\n",
       "...                      ...\n",
       "NCZ30                  6.590\n",
       "NCZ41                 19.850\n",
       "NCZ42                 10.500\n",
       "NCZ53                  9.600\n",
       "NCZ54                 14.650\n",
       "\n",
       "[1555 rows x 1 columns]"
      ]
     },
     "execution_count": 42,
     "metadata": {},
     "output_type": "execute_result"
    }
   ],
   "source": [
    "# Fill the missing values:\n",
    "item_weight_mean = df_train.pivot_table(values = \"Item_Weight\", index = 'Item_Identifier')\n",
    "item_weight_mean"
   ]
  },
  {
   "cell_type": "code",
   "execution_count": 43,
   "id": "11747bb2",
   "metadata": {},
   "outputs": [
    {
     "data": {
      "text/plain": [
       "0       False\n",
       "1       False\n",
       "2       False\n",
       "3       False\n",
       "4       False\n",
       "        ...  \n",
       "8518    False\n",
       "8519    False\n",
       "8520    False\n",
       "8521    False\n",
       "8522    False\n",
       "Name: Item_Weight, Length: 8523, dtype: bool"
      ]
     },
     "execution_count": 43,
     "metadata": {},
     "output_type": "execute_result"
    }
   ],
   "source": [
    "miss_bool = df_train['Item_Weight'].isnull()\n",
    "miss_bool"
   ]
  },
  {
   "cell_type": "code",
   "execution_count": 54,
   "id": "ca73fc92",
   "metadata": {},
   "outputs": [
    {
     "name": "stderr",
     "output_type": "stream",
     "text": [
      "C:\\Users\\Admin\\AppData\\Local\\Temp\\ipykernel_2872\\1332502330.py:6: SettingWithCopyWarning: \n",
      "A value is trying to be set on a copy of a slice from a DataFrame\n",
      "\n",
      "See the caveats in the documentation: https://pandas.pydata.org/pandas-docs/stable/user_guide/indexing.html#returning-a-view-versus-a-copy\n",
      "  df_train['Item_Weight'][i] = 0\n"
     ]
    }
   ],
   "source": [
    "for i, item in enumerate(df_train['Item_Identifier']):\n",
    "    if miss_bool[i]:\n",
    "        if item in item_weight_mean:\n",
    "            df_train['Item_Weight'][i] = item_weight_mean.loc[item]['Item_Weight']\n",
    "        else:\n",
    "            df_train['Item_Weight'][i] = 0"
   ]
  },
  {
   "cell_type": "code",
   "execution_count": 55,
   "id": "782e3468",
   "metadata": {},
   "outputs": [
    {
     "data": {
      "text/plain": [
       "0"
      ]
     },
     "execution_count": 55,
     "metadata": {},
     "output_type": "execute_result"
    }
   ],
   "source": [
    "df_train['Item_Weight'].isnull().sum()"
   ]
  },
  {
   "cell_type": "code",
   "execution_count": 56,
   "id": "9dcdd268",
   "metadata": {},
   "outputs": [
    {
     "data": {
      "text/html": [
       "<div>\n",
       "<style scoped>\n",
       "    .dataframe tbody tr th:only-of-type {\n",
       "        vertical-align: middle;\n",
       "    }\n",
       "\n",
       "    .dataframe tbody tr th {\n",
       "        vertical-align: top;\n",
       "    }\n",
       "\n",
       "    .dataframe thead th {\n",
       "        text-align: right;\n",
       "    }\n",
       "</style>\n",
       "<table border=\"1\" class=\"dataframe\">\n",
       "  <thead>\n",
       "    <tr style=\"text-align: right;\">\n",
       "      <th>Outlet_Type</th>\n",
       "      <th>Grocery Store</th>\n",
       "      <th>Supermarket Type1</th>\n",
       "      <th>Supermarket Type2</th>\n",
       "      <th>Supermarket Type3</th>\n",
       "    </tr>\n",
       "  </thead>\n",
       "  <tbody>\n",
       "    <tr>\n",
       "      <th>Outlet_Size</th>\n",
       "      <td>Small</td>\n",
       "      <td>Small</td>\n",
       "      <td>Medium</td>\n",
       "      <td>Medium</td>\n",
       "    </tr>\n",
       "  </tbody>\n",
       "</table>\n",
       "</div>"
      ],
      "text/plain": [
       "Outlet_Type Grocery Store Supermarket Type1 Supermarket Type2  \\\n",
       "Outlet_Size         Small             Small            Medium   \n",
       "\n",
       "Outlet_Type Supermarket Type3  \n",
       "Outlet_Size            Medium  "
      ]
     },
     "execution_count": 56,
     "metadata": {},
     "output_type": "execute_result"
    }
   ],
   "source": [
    "Outlet_Size_Mode = df_train.pivot_table (values = 'Outlet_Size', columns = 'Outlet_Type', aggfunc = (lambda x: x.mode()[0]))\n",
    "Outlet_Size_Mode"
   ]
  },
  {
   "cell_type": "code",
   "execution_count": 57,
   "id": "286c4ee5",
   "metadata": {},
   "outputs": [],
   "source": [
    "miss_bool = df_train['Outlet_Size'].isnull()\n",
    "df_train.loc[miss_bool, 'Outlet_Size'] = df_train.loc[miss_bool, 'Outlet_Type'].apply(lambda x: Outlet_Size_Mode[x])"
   ]
  },
  {
   "cell_type": "code",
   "execution_count": 58,
   "id": "ddca1be7",
   "metadata": {},
   "outputs": [
    {
     "data": {
      "text/plain": [
       "0"
      ]
     },
     "execution_count": 58,
     "metadata": {},
     "output_type": "execute_result"
    }
   ],
   "source": [
    "df_train['Outlet_Size'].isnull().sum()"
   ]
  },
  {
   "cell_type": "code",
   "execution_count": 59,
   "id": "dcc5f963",
   "metadata": {},
   "outputs": [
    {
     "data": {
      "text/plain": [
       "526"
      ]
     },
     "execution_count": 59,
     "metadata": {},
     "output_type": "execute_result"
    }
   ],
   "source": [
    "sum(df_train['Item_Visibility'] == 0)"
   ]
  },
  {
   "cell_type": "code",
   "execution_count": 60,
   "id": "4cf146e7",
   "metadata": {},
   "outputs": [],
   "source": [
    "# Replace Zeros with mean:\n",
    "df_train.loc[:, 'Item_Visibility'].replace([0], [df_train['Item_Visibility'].mean()], inplace = True)"
   ]
  },
  {
   "cell_type": "code",
   "execution_count": 61,
   "id": "ec996746",
   "metadata": {},
   "outputs": [
    {
     "data": {
      "text/plain": [
       "0"
      ]
     },
     "execution_count": 61,
     "metadata": {},
     "output_type": "execute_result"
    }
   ],
   "source": [
    "sum(df_train['Item_Visibility'] == 0)"
   ]
  },
  {
   "cell_type": "code",
   "execution_count": 62,
   "id": "2b976dba",
   "metadata": {},
   "outputs": [],
   "source": [
    "# Combine Item for Content:\n",
    "df_train['Item_Fat_Content'] = df_train['Item_Fat_Content'].replace({'LF': 'Low Fat', 'reg': 'Regular', 'low fat': 'Low Fat'})"
   ]
  },
  {
   "cell_type": "code",
   "execution_count": 63,
   "id": "3d3eb845",
   "metadata": {},
   "outputs": [
    {
     "data": {
      "text/plain": [
       "Low Fat    5517\n",
       "Regular    3006\n",
       "Name: Item_Fat_Content, dtype: int64"
      ]
     },
     "execution_count": 63,
     "metadata": {},
     "output_type": "execute_result"
    }
   ],
   "source": [
    "df_train['Item_Fat_Content'].value_counts()"
   ]
  },
  {
   "cell_type": "markdown",
   "id": "cb594dee",
   "metadata": {},
   "source": [
    "# Creation of New Attributes"
   ]
  },
  {
   "cell_type": "code",
   "execution_count": 69,
   "id": "478ded54",
   "metadata": {},
   "outputs": [
    {
     "data": {
      "text/plain": [
       "0       FD\n",
       "1       DR\n",
       "2       FD\n",
       "3       FD\n",
       "4       NC\n",
       "        ..\n",
       "8518    FD\n",
       "8519    FD\n",
       "8520    NC\n",
       "8521    FD\n",
       "8522    DR\n",
       "Name: New_Item_Type, Length: 8523, dtype: object"
      ]
     },
     "execution_count": 69,
     "metadata": {},
     "output_type": "execute_result"
    }
   ],
   "source": [
    "df_train['New_Item_Type'] = df_train['Item_Identifier'].apply(lambda x: x[:2])\n",
    "df_train['New_Item_Type']"
   ]
  },
  {
   "cell_type": "code",
   "execution_count": 70,
   "id": "2c28b4a2",
   "metadata": {},
   "outputs": [
    {
     "data": {
      "text/plain": [
       "Food              6125\n",
       "Non-Consumable    1599\n",
       "Drinks             799\n",
       "Name: New_Item_Type, dtype: int64"
      ]
     },
     "execution_count": 70,
     "metadata": {},
     "output_type": "execute_result"
    }
   ],
   "source": [
    "df_train['New_Item_Type'] = df_train['New_Item_Type'].map({'FD': 'Food', 'NC': 'Non-Consumable', 'DR': 'Drinks'})\n",
    "df_train['New_Item_Type'].value_counts()"
   ]
  },
  {
   "cell_type": "code",
   "execution_count": 85,
   "id": "ad835cdf",
   "metadata": {},
   "outputs": [],
   "source": [
    "df_train.loc[df_train['New_Item_Type'] == 'Non-Consumable', 'Item_Fat_Content'] = 'Non-Edible'"
   ]
  },
  {
   "cell_type": "code",
   "execution_count": 86,
   "id": "3d11d49a",
   "metadata": {},
   "outputs": [
    {
     "data": {
      "text/plain": [
       "Low Fat       3918\n",
       "Regular       3006\n",
       "Non-Edible    1599\n",
       "Name: Item_Fat_Content, dtype: int64"
      ]
     },
     "execution_count": 86,
     "metadata": {},
     "output_type": "execute_result"
    }
   ],
   "source": [
    "df_train['Item_Fat_Content'].value_counts()"
   ]
  },
  {
   "cell_type": "code",
   "execution_count": 87,
   "id": "9a626a6f",
   "metadata": {},
   "outputs": [
    {
     "data": {
      "text/plain": [
       "0       14\n",
       "1        4\n",
       "2       14\n",
       "3       15\n",
       "4       26\n",
       "        ..\n",
       "8518    26\n",
       "8519    11\n",
       "8520     9\n",
       "8521     4\n",
       "8522    16\n",
       "Name: Outlate_Year, Length: 8523, dtype: int64"
      ]
     },
     "execution_count": 87,
     "metadata": {},
     "output_type": "execute_result"
    }
   ],
   "source": [
    "# Creat Small Value for Establishment Year:\n",
    "df_train['Outlate_Year'] = 2013 - df_train['Outlet_Establishment_Year']\n",
    "df_train['Outlate_Year']"
   ]
  },
  {
   "cell_type": "code",
   "execution_count": 89,
   "id": "98966047",
   "metadata": {},
   "outputs": [
    {
     "name": "stderr",
     "output_type": "stream",
     "text": [
      "C:\\Users\\Admin\\anaconda3\\lib\\site-packages\\seaborn\\distributions.py:2619: FutureWarning: `distplot` is a deprecated function and will be removed in a future version. Please adapt your code to use either `displot` (a figure-level function with similar flexibility) or `histplot` (an axes-level function for histograms).\n",
      "  warnings.warn(msg, FutureWarning)\n"
     ]
    },
    {
     "data": {
      "text/plain": [
       "<AxesSubplot:xlabel='Item_Weight', ylabel='Density'>"
      ]
     },
     "execution_count": 89,
     "metadata": {},
     "output_type": "execute_result"
    },
    {
     "data": {
      "image/png": "[encoded data removed]",
      "text/plain": [
       "<Figure size 432x288 with 1 Axes>"
      ]
     },
     "metadata": {
      "needs_background": "light"
     },
     "output_type": "display_data"
    }
   ],
   "source": [
    "# Exploratory Data Analysis:\n",
    "sns.distplot(df_train['Item_Weight'])"
   ]
  },
  {
   "cell_type": "code",
   "execution_count": 90,
   "id": "53b36c52",
   "metadata": {},
   "outputs": [
    {
     "name": "stderr",
     "output_type": "stream",
     "text": [
      "C:\\Users\\Admin\\anaconda3\\lib\\site-packages\\seaborn\\distributions.py:2619: FutureWarning: `distplot` is a deprecated function and will be removed in a future version. Please adapt your code to use either `displot` (a figure-level function with similar flexibility) or `histplot` (an axes-level function for histograms).\n",
      "  warnings.warn(msg, FutureWarning)\n"
     ]
    },
    {
     "data": {
      "text/plain": [
       "<AxesSubplot:xlabel='Item_Visibility', ylabel='Density'>"
      ]
     },
     "execution_count": 90,
     "metadata": {},
     "output_type": "execute_result"
    },
    {
     "data": {
      "image/png": "[encoded data removed]",
      "text/plain": [
       "<Figure size 432x288 with 1 Axes>"
      ]
     },
     "metadata": {
      "needs_background": "light"
     },
     "output_type": "display_data"
    }
   ],
   "source": [
    "sns.distplot(df_train['Item_Visibility'])"
   ]
  },
  {
   "cell_type": "code",
   "execution_count": 91,
   "id": "977ec7a3",
   "metadata": {},
   "outputs": [
    {
     "name": "stderr",
     "output_type": "stream",
     "text": [
      "C:\\Users\\Admin\\anaconda3\\lib\\site-packages\\seaborn\\distributions.py:2619: FutureWarning: `distplot` is a deprecated function and will be removed in a future version. Please adapt your code to use either `displot` (a figure-level function with similar flexibility) or `histplot` (an axes-level function for histograms).\n",
      "  warnings.warn(msg, FutureWarning)\n"
     ]
    },
    {
     "data": {
      "text/plain": [
       "<AxesSubplot:xlabel='Item_MRP', ylabel='Density'>"
      ]
     },
     "execution_count": 91,
     "metadata": {},
     "output_type": "execute_result"
    },
    {
     "data": {
      "image/png": "[encoded data removed]",
      "text/plain": [
       "<Figure size 432x288 with 1 Axes>"
      ]
     },
     "metadata": {
      "needs_background": "light"
     },
     "output_type": "display_data"
    }
   ],
   "source": [
    "sns.distplot(df_train['Item_MRP'])"
   ]
  },
  {
   "cell_type": "code",
   "execution_count": 92,
   "id": "d7af0d8e",
   "metadata": {},
   "outputs": [
    {
     "name": "stderr",
     "output_type": "stream",
     "text": [
      "C:\\Users\\Admin\\anaconda3\\lib\\site-packages\\seaborn\\distributions.py:2619: FutureWarning: `distplot` is a deprecated function and will be removed in a future version. Please adapt your code to use either `displot` (a figure-level function with similar flexibility) or `histplot` (an axes-level function for histograms).\n",
      "  warnings.warn(msg, FutureWarning)\n"
     ]
    },
    {
     "data": {
      "text/plain": [
       "<AxesSubplot:xlabel='Item_Outlet_Sales', ylabel='Density'>"
      ]
     },
     "execution_count": 92,
     "metadata": {},
     "output_type": "execute_result"
    },
    {
     "data": {
      "image/png": "[encoded data removed]",
      "text/plain": [
       "<Figure size 432x288 with 1 Axes>"
      ]
     },
     "metadata": {
      "needs_background": "light"
     },
     "output_type": "display_data"
    }
   ],
   "source": [
    "sns.distplot(df_train['Item_Outlet_Sales'])"
   ]
  },
  {
   "cell_type": "code",
   "execution_count": 93,
   "id": "cf8f9d32",
   "metadata": {},
   "outputs": [],
   "source": [
    "# Log Transformation:\n",
    "df_train['Item_Outlet_Sales'] = np.log(1+df_train['Item_Outlet_Sales'])"
   ]
  },
  {
   "cell_type": "code",
   "execution_count": 94,
   "id": "9b17e7eb",
   "metadata": {},
   "outputs": [
    {
     "name": "stderr",
     "output_type": "stream",
     "text": [
      "C:\\Users\\Admin\\anaconda3\\lib\\site-packages\\seaborn\\distributions.py:2619: FutureWarning: `distplot` is a deprecated function and will be removed in a future version. Please adapt your code to use either `displot` (a figure-level function with similar flexibility) or `histplot` (an axes-level function for histograms).\n",
      "  warnings.warn(msg, FutureWarning)\n"
     ]
    },
    {
     "data": {
      "text/plain": [
       "<AxesSubplot:xlabel='Item_Outlet_Sales', ylabel='Density'>"
      ]
     },
     "execution_count": 94,
     "metadata": {},
     "output_type": "execute_result"
    },
    {
     "data": {
      "image/png": "[encoded data removed]",
      "text/plain": [
       "<Figure size 432x288 with 1 Axes>"
      ]
     },
     "metadata": {
      "needs_background": "light"
     },
     "output_type": "display_data"
    }
   ],
   "source": [
    "sns.distplot(df_train['Item_Outlet_Sales'])"
   ]
  },
  {
   "cell_type": "code",
   "execution_count": 95,
   "id": "46428790",
   "metadata": {},
   "outputs": [
    {
     "name": "stderr",
     "output_type": "stream",
     "text": [
      "C:\\Users\\Admin\\anaconda3\\lib\\site-packages\\seaborn\\_decorators.py:36: FutureWarning: Pass the following variable as a keyword arg: x. From version 0.12, the only valid positional argument will be `data`, and passing other arguments without an explicit keyword will result in an error or misinterpretation.\n",
      "  warnings.warn(\n"
     ]
    },
    {
     "data": {
      "text/plain": [
       "<AxesSubplot:xlabel='Item_Fat_Content', ylabel='count'>"
      ]
     },
     "execution_count": 95,
     "metadata": {},
     "output_type": "execute_result"
    },
    {
     "data": {
      "image/png": "[encoded data removed]",
      "text/plain": [
       "<Figure size 432x288 with 1 Axes>"
      ]
     },
     "metadata": {
      "needs_background": "light"
     },
     "output_type": "display_data"
    }
   ],
   "source": [
    "sns.countplot(df_train['Item_Fat_Content'])"
   ]
  },
  {
   "cell_type": "code",
   "execution_count": 109,
   "id": "e7372c96",
   "metadata": {},
   "outputs": [
    {
     "name": "stderr",
     "output_type": "stream",
     "text": [
      "C:\\Users\\Admin\\anaconda3\\lib\\site-packages\\seaborn\\_decorators.py:36: FutureWarning: Pass the following variable as a keyword arg: x. From version 0.12, the only valid positional argument will be `data`, and passing other arguments without an explicit keyword will result in an error or misinterpretation.\n",
      "  warnings.warn(\n"
     ]
    },
    {
     "data": {
      "text/plain": [
       "[Text(0, 0, 'Dairy'),\n",
       " Text(1, 0, 'Soft Drinks'),\n",
       " Text(2, 0, 'Meat'),\n",
       " Text(3, 0, 'Fruits and Vegetables'),\n",
       " Text(4, 0, 'Household'),\n",
       " Text(5, 0, 'Baking Goods'),\n",
       " Text(6, 0, 'Snack Foods'),\n",
       " Text(7, 0, 'Frozen Foods'),\n",
       " Text(8, 0, 'Breakfast'),\n",
       " Text(9, 0, 'Health and Hygiene'),\n",
       " Text(10, 0, 'Hard Drinks'),\n",
       " Text(11, 0, 'Canned'),\n",
       " Text(12, 0, 'Breads'),\n",
       " Text(13, 0, 'Starchy Foods'),\n",
       " Text(14, 0, 'Others'),\n",
       " Text(15, 0, 'Seafood')]"
      ]
     },
     "execution_count": 109,
     "metadata": {},
     "output_type": "execute_result"
    },
    {
     "data": {
      "image/png": "[encoded data removed]",
      "text/plain": [
       "<Figure size 432x288 with 1 Axes>"
      ]
     },
     "metadata": {
      "needs_background": "light"
     },
     "output_type": "display_data"
    }
   ],
   "source": [
    "l = list(df_train['Item_Type'].unique())\n",
    "chart = sns.countplot(df_train['Item_Type'])\n",
    "chart.set_xticklabels(labels = l, rotation = 90)"
   ]
  },
  {
   "cell_type": "code",
   "execution_count": 113,
   "id": "56457762",
   "metadata": {},
   "outputs": [
    {
     "name": "stderr",
     "output_type": "stream",
     "text": [
      "C:\\Users\\Admin\\anaconda3\\lib\\site-packages\\seaborn\\_decorators.py:36: FutureWarning: Pass the following variable as a keyword arg: x. From version 0.12, the only valid positional argument will be `data`, and passing other arguments without an explicit keyword will result in an error or misinterpretation.\n",
      "  warnings.warn(\n"
     ]
    },
    {
     "data": {
      "text/plain": [
       "<AxesSubplot:xlabel='Outlet_Establishment_Year', ylabel='count'>"
      ]
     },
     "execution_count": 113,
     "metadata": {},
     "output_type": "execute_result"
    },
    {
     "data": {
      "image/png": "[encoded data removed]",
      "text/plain": [
       "<Figure size 432x288 with 1 Axes>"
      ]
     },
     "metadata": {
      "needs_background": "light"
     },
     "output_type": "display_data"
    }
   ],
   "source": [
    "sns.countplot(df_train['Outlet_Establishment_Year'])"
   ]
  },
  {
   "cell_type": "code",
   "execution_count": 114,
   "id": "23bd213e",
   "metadata": {},
   "outputs": [
    {
     "name": "stderr",
     "output_type": "stream",
     "text": [
      "C:\\Users\\Admin\\anaconda3\\lib\\site-packages\\seaborn\\_decorators.py:36: FutureWarning: Pass the following variable as a keyword arg: x. From version 0.12, the only valid positional argument will be `data`, and passing other arguments without an explicit keyword will result in an error or misinterpretation.\n",
      "  warnings.warn(\n"
     ]
    },
    {
     "data": {
      "text/plain": [
       "<AxesSubplot:xlabel='Outlet_Size', ylabel='count'>"
      ]
     },
     "execution_count": 114,
     "metadata": {},
     "output_type": "execute_result"
    },
    {
     "data": {
      "image/png": "[encoded data removed]",
      "text/plain": [
       "<Figure size 432x288 with 1 Axes>"
      ]
     },
     "metadata": {
      "needs_background": "light"
     },
     "output_type": "display_data"
    }
   ],
   "source": [
    "sns.countplot(df_train['Outlet_Size'])"
   ]
  },
  {
   "cell_type": "code",
   "execution_count": 115,
   "id": "2cf6e0fc",
   "metadata": {},
   "outputs": [
    {
     "name": "stderr",
     "output_type": "stream",
     "text": [
      "C:\\Users\\Admin\\anaconda3\\lib\\site-packages\\seaborn\\_decorators.py:36: FutureWarning: Pass the following variable as a keyword arg: x. From version 0.12, the only valid positional argument will be `data`, and passing other arguments without an explicit keyword will result in an error or misinterpretation.\n",
      "  warnings.warn(\n"
     ]
    },
    {
     "data": {
      "text/plain": [
       "<AxesSubplot:xlabel='Outlet_Location_Type', ylabel='count'>"
      ]
     },
     "execution_count": 115,
     "metadata": {},
     "output_type": "execute_result"
    },
    {
     "data": {
      "image/png": "[encoded data removed]",
      "text/plain": [
       "<Figure size 432x288 with 1 Axes>"
      ]
     },
     "metadata": {
      "needs_background": "light"
     },
     "output_type": "display_data"
    }
   ],
   "source": [
    "sns.countplot(df_train['Outlet_Location_Type'])"
   ]
  },
  {
   "cell_type": "code",
   "execution_count": 122,
   "id": "13300ac9",
   "metadata": {},
   "outputs": [
    {
     "name": "stderr",
     "output_type": "stream",
     "text": [
      "C:\\Users\\Admin\\anaconda3\\lib\\site-packages\\seaborn\\_decorators.py:36: FutureWarning: Pass the following variable as a keyword arg: x. From version 0.12, the only valid positional argument will be `data`, and passing other arguments without an explicit keyword will result in an error or misinterpretation.\n",
      "  warnings.warn(\n"
     ]
    },
    {
     "data": {
      "text/plain": [
       "[Text(0, 0, 'Supermarket Type1'),\n",
       " Text(1, 0, 'Supermarket Type2'),\n",
       " Text(2, 0, 'Grocery Store'),\n",
       " Text(3, 0, 'Supermarket Type3')]"
      ]
     },
     "execution_count": 122,
     "metadata": {},
     "output_type": "execute_result"
    },
    {
     "data": {
      "image/png": "[encoded data removed]",
      "text/plain": [
       "<Figure size 432x288 with 1 Axes>"
      ]
     },
     "metadata": {
      "needs_background": "light"
     },
     "output_type": "display_data"
    }
   ],
   "source": [
    "l = list(df_train['Outlet_Type'].unique())\n",
    "chart = sns.countplot(df_train['Outlet_Type'])\n",
    "chart.set_xticklabels(labels = l, rotation = 90)"
   ]
  },
  {
   "cell_type": "markdown",
   "id": "ca8e6a37",
   "metadata": {},
   "source": [
    "# Coorelation Matrix"
   ]
  },
  {
   "cell_type": "code",
   "execution_count": 126,
   "id": "ec0c6dce",
   "metadata": {},
   "outputs": [
    {
     "data": {
      "text/plain": [
       "<AxesSubplot:>"
      ]
     },
     "execution_count": 126,
     "metadata": {},
     "output_type": "execute_result"
    },
    {
     "data": {
      "image/png": "[encoded data removed]",
      "text/plain": [
       "<Figure size 432x288 with 2 Axes>"
      ]
     },
     "metadata": {
      "needs_background": "light"
     },
     "output_type": "display_data"
    }
   ],
   "source": [
    "corr = df_train.corr()\n",
    "sns.heatmap(corr, annot = True, cmap  = 'coolwarm')"
   ]
  },
  {
   "cell_type": "markdown",
   "id": "ec336356",
   "metadata": {},
   "source": [
    "## Label Encoding"
   ]
  },
  {
   "cell_type": "code",
   "execution_count": 212,
   "id": "41d70e6a",
   "metadata": {},
   "outputs": [
    {
     "ename": "KeyError",
     "evalue": "'Item_Fat_Content'",
     "output_type": "error",
     "traceback": [
      "\u001b[1;31m---------------------------------------------------------------------------\u001b[0m",
      "\u001b[1;31mKeyError\u001b[0m                                  Traceback (most recent call last)",
      "File \u001b[1;32m~\\anaconda3\\lib\\site-packages\\pandas\\core\\indexes\\base.py:3621\u001b[0m, in \u001b[0;36mIndex.get_loc\u001b[1;34m(self, key, method, tolerance)\u001b[0m\n\u001b[0;32m   3620\u001b[0m \u001b[38;5;28;01mtry\u001b[39;00m:\n\u001b[1;32m-> 3621\u001b[0m     \u001b[38;5;28;01mreturn\u001b[39;00m \u001b[38;5;28;43mself\u001b[39;49m\u001b[38;5;241;43m.\u001b[39;49m\u001b[43m_engine\u001b[49m\u001b[38;5;241;43m.\u001b[39;49m\u001b[43mget_loc\u001b[49m\u001b[43m(\u001b[49m\u001b[43mcasted_key\u001b[49m\u001b[43m)\u001b[49m\n\u001b[0;32m   3622\u001b[0m \u001b[38;5;28;01mexcept\u001b[39;00m \u001b[38;5;167;01mKeyError\u001b[39;00m \u001b[38;5;28;01mas\u001b[39;00m err:\n",
      "File \u001b[1;32m~\\anaconda3\\lib\\site-packages\\pandas\\_libs\\index.pyx:136\u001b[0m, in \u001b[0;36mpandas._libs.index.IndexEngine.get_loc\u001b[1;34m()\u001b[0m\n",
      "File \u001b[1;32m~\\anaconda3\\lib\\site-packages\\pandas\\_libs\\index.pyx:163\u001b[0m, in \u001b[0;36mpandas._libs.index.IndexEngine.get_loc\u001b[1;34m()\u001b[0m\n",
      "File \u001b[1;32mpandas\\_libs\\hashtable_class_helper.pxi:5198\u001b[0m, in \u001b[0;36mpandas._libs.hashtable.PyObjectHashTable.get_item\u001b[1;34m()\u001b[0m\n",
      "File \u001b[1;32mpandas\\_libs\\hashtable_class_helper.pxi:5206\u001b[0m, in \u001b[0;36mpandas._libs.hashtable.PyObjectHashTable.get_item\u001b[1;34m()\u001b[0m\n",
      "\u001b[1;31mKeyError\u001b[0m: 'Item_Fat_Content'",
      "\nThe above exception was the direct cause of the following exception:\n",
      "\u001b[1;31mKeyError\u001b[0m                                  Traceback (most recent call last)",
      "Input \u001b[1;32mIn [212]\u001b[0m, in \u001b[0;36m<cell line: 5>\u001b[1;34m()\u001b[0m\n\u001b[0;32m      4\u001b[0m cat_col \u001b[38;5;241m=\u001b[39m [\u001b[38;5;124m'\u001b[39m\u001b[38;5;124mItem_Fat_Content\u001b[39m\u001b[38;5;124m'\u001b[39m, \u001b[38;5;124m'\u001b[39m\u001b[38;5;124mItem_Type\u001b[39m\u001b[38;5;124m'\u001b[39m, \u001b[38;5;124m'\u001b[39m\u001b[38;5;124mOutlet_Size\u001b[39m\u001b[38;5;124m'\u001b[39m, \u001b[38;5;124m'\u001b[39m\u001b[38;5;124mOutlet_Location_Type\u001b[39m\u001b[38;5;124m'\u001b[39m, \u001b[38;5;124m'\u001b[39m\u001b[38;5;124mOutlet_Type\u001b[39m\u001b[38;5;124m'\u001b[39m, \u001b[38;5;124m'\u001b[39m\u001b[38;5;124mNew_Item_Type\u001b[39m\u001b[38;5;124m'\u001b[39m]\n\u001b[0;32m      5\u001b[0m \u001b[38;5;28;01mfor\u001b[39;00m col \u001b[38;5;129;01min\u001b[39;00m cat_col:\n\u001b[1;32m----> 6\u001b[0m     df_train[col] \u001b[38;5;241m=\u001b[39m le\u001b[38;5;241m.\u001b[39mfit_transform(\u001b[43mdf_train\u001b[49m\u001b[43m[\u001b[49m\u001b[43mcol\u001b[49m\u001b[43m]\u001b[49m)\n",
      "File \u001b[1;32m~\\anaconda3\\lib\\site-packages\\pandas\\core\\frame.py:3505\u001b[0m, in \u001b[0;36mDataFrame.__getitem__\u001b[1;34m(self, key)\u001b[0m\n\u001b[0;32m   3503\u001b[0m \u001b[38;5;28;01mif\u001b[39;00m \u001b[38;5;28mself\u001b[39m\u001b[38;5;241m.\u001b[39mcolumns\u001b[38;5;241m.\u001b[39mnlevels \u001b[38;5;241m>\u001b[39m \u001b[38;5;241m1\u001b[39m:\n\u001b[0;32m   3504\u001b[0m     \u001b[38;5;28;01mreturn\u001b[39;00m \u001b[38;5;28mself\u001b[39m\u001b[38;5;241m.\u001b[39m_getitem_multilevel(key)\n\u001b[1;32m-> 3505\u001b[0m indexer \u001b[38;5;241m=\u001b[39m \u001b[38;5;28;43mself\u001b[39;49m\u001b[38;5;241;43m.\u001b[39;49m\u001b[43mcolumns\u001b[49m\u001b[38;5;241;43m.\u001b[39;49m\u001b[43mget_loc\u001b[49m\u001b[43m(\u001b[49m\u001b[43mkey\u001b[49m\u001b[43m)\u001b[49m\n\u001b[0;32m   3506\u001b[0m \u001b[38;5;28;01mif\u001b[39;00m is_integer(indexer):\n\u001b[0;32m   3507\u001b[0m     indexer \u001b[38;5;241m=\u001b[39m [indexer]\n",
      "File \u001b[1;32m~\\anaconda3\\lib\\site-packages\\pandas\\core\\indexes\\base.py:3623\u001b[0m, in \u001b[0;36mIndex.get_loc\u001b[1;34m(self, key, method, tolerance)\u001b[0m\n\u001b[0;32m   3621\u001b[0m     \u001b[38;5;28;01mreturn\u001b[39;00m \u001b[38;5;28mself\u001b[39m\u001b[38;5;241m.\u001b[39m_engine\u001b[38;5;241m.\u001b[39mget_loc(casted_key)\n\u001b[0;32m   3622\u001b[0m \u001b[38;5;28;01mexcept\u001b[39;00m \u001b[38;5;167;01mKeyError\u001b[39;00m \u001b[38;5;28;01mas\u001b[39;00m err:\n\u001b[1;32m-> 3623\u001b[0m     \u001b[38;5;28;01mraise\u001b[39;00m \u001b[38;5;167;01mKeyError\u001b[39;00m(key) \u001b[38;5;28;01mfrom\u001b[39;00m \u001b[38;5;21;01merr\u001b[39;00m\n\u001b[0;32m   3624\u001b[0m \u001b[38;5;28;01mexcept\u001b[39;00m \u001b[38;5;167;01mTypeError\u001b[39;00m:\n\u001b[0;32m   3625\u001b[0m     \u001b[38;5;66;03m# If we have a listlike key, _check_indexing_error will raise\u001b[39;00m\n\u001b[0;32m   3626\u001b[0m     \u001b[38;5;66;03m#  InvalidIndexError. Otherwise we fall through and re-raise\u001b[39;00m\n\u001b[0;32m   3627\u001b[0m     \u001b[38;5;66;03m#  the TypeError.\u001b[39;00m\n\u001b[0;32m   3628\u001b[0m     \u001b[38;5;28mself\u001b[39m\u001b[38;5;241m.\u001b[39m_check_indexing_error(key)\n",
      "\u001b[1;31mKeyError\u001b[0m: 'Item_Fat_Content'"
     ]
    }
   ],
   "source": [
    "from sklearn.preprocessing import LabelEncoder\n",
    "le = LabelEncoder()\n",
    "df_train['Outlet']=le.fit_transform(df_train['Outlet_Identifier'])\n",
    "cat_col = ['Item_Fat_Content', 'Item_Type', 'Outlet_Size', 'Outlet_Location_Type', 'Outlet_Type', 'New_Item_Type']\n",
    "for col in cat_col:\n",
    "    df_train[col] = le.fit_transform(df_train[col])"
   ]
  },
  {
   "cell_type": "markdown",
   "id": "7d35a3bb",
   "metadata": {},
   "source": [
    "## Onehot Encoding"
   ]
  },
  {
   "cell_type": "code",
   "execution_count": 215,
   "id": "4af51657",
   "metadata": {},
   "outputs": [
    {
     "ename": "TypeError",
     "evalue": "get_dummies() got an unexpected keyword argument 'Columns'",
     "output_type": "error",
     "traceback": [
      "\u001b[1;31m---------------------------------------------------------------------------\u001b[0m",
      "\u001b[1;31mTypeError\u001b[0m                                 Traceback (most recent call last)",
      "Input \u001b[1;32mIn [215]\u001b[0m, in \u001b[0;36m<cell line: 1>\u001b[1;34m()\u001b[0m\n\u001b[1;32m----> 1\u001b[0m df_train \u001b[38;5;241m=\u001b[39m \u001b[43mpd\u001b[49m\u001b[38;5;241;43m.\u001b[39;49m\u001b[43mget_dummies\u001b[49m\u001b[43m(\u001b[49m\u001b[43mdf_train\u001b[49m\u001b[43m,\u001b[49m\u001b[43m \u001b[49m\u001b[43mColumns\u001b[49m\u001b[43m \u001b[49m\u001b[38;5;241;43m=\u001b[39;49m\u001b[43m \u001b[49m\u001b[43m[\u001b[49m\u001b[38;5;124;43m'\u001b[39;49m\u001b[38;5;124;43mItem_Fat_Content\u001b[39;49m\u001b[38;5;124;43m'\u001b[39;49m\u001b[43m,\u001b[49m\u001b[43m \u001b[49m\u001b[38;5;124;43m'\u001b[39;49m\u001b[38;5;124;43mItem_Type\u001b[39;49m\u001b[38;5;124;43m'\u001b[39;49m\u001b[43m,\u001b[49m\u001b[43m \u001b[49m\u001b[38;5;124;43m'\u001b[39;49m\u001b[38;5;124;43mOutlet_Size\u001b[39;49m\u001b[38;5;124;43m'\u001b[39;49m\u001b[43m,\u001b[49m\u001b[43m \u001b[49m\u001b[38;5;124;43m'\u001b[39;49m\u001b[38;5;124;43mOutlet_Location_Type\u001b[39;49m\u001b[38;5;124;43m'\u001b[39;49m\u001b[43m,\u001b[49m\u001b[43m \u001b[49m\u001b[38;5;124;43m'\u001b[39;49m\u001b[38;5;124;43mOutlet_Type\u001b[39;49m\u001b[38;5;124;43m'\u001b[39;49m\u001b[43m,\u001b[49m\u001b[43m \u001b[49m\u001b[38;5;124;43m'\u001b[39;49m\u001b[38;5;124;43mNew_Item_Type\u001b[39;49m\u001b[38;5;124;43m'\u001b[39;49m\u001b[43m]\u001b[49m\u001b[43m)\u001b[49m\n\u001b[0;32m      2\u001b[0m df_train\u001b[38;5;241m.\u001b[39mhead\n",
      "\u001b[1;31mTypeError\u001b[0m: get_dummies() got an unexpected keyword argument 'Columns'"
     ]
    }
   ],
   "source": [
    "df_train = pd.get_dummies(df_train, Columns = ['Item_Fat_Content', 'Item_Type', 'Outlet_Size', 'Outlet_Location_Type', 'Outlet_Type', 'New_Item_Type'])\n",
    "df_train.head"
   ]
  },
  {
   "cell_type": "markdown",
   "id": "fdc6ea58",
   "metadata": {},
   "source": [
    "## Input Split"
   ]
  },
  {
   "cell_type": "code",
   "execution_count": 246,
   "id": "1e9afb4c",
   "metadata": {},
   "outputs": [
    {
     "ename": "AttributeError",
     "evalue": "'function' object has no attribute 'drop'",
     "output_type": "error",
     "traceback": [
      "\u001b[1;31m---------------------------------------------------------------------------\u001b[0m",
      "\u001b[1;31mAttributeError\u001b[0m                            Traceback (most recent call last)",
      "Input \u001b[1;32mIn [246]\u001b[0m, in \u001b[0;36m<cell line: 1>\u001b[1;34m()\u001b[0m\n\u001b[1;32m----> 1\u001b[0m x, y \u001b[38;5;241m=\u001b[39m \u001b[43mdf_train\u001b[49m\u001b[38;5;241;43m.\u001b[39;49m\u001b[43mdrop\u001b[49m(Columns \u001b[38;5;241m=\u001b[39m [\u001b[38;5;124m'\u001b[39m\u001b[38;5;124mOutlet_Establishment_Year\u001b[39m\u001b[38;5;124m'\u001b[39m, \u001b[38;5;124m'\u001b[39m\u001b[38;5;124mItem_Identifier\u001b[39m\u001b[38;5;124m'\u001b[39m, \u001b[38;5;124m'\u001b[39m\u001b[38;5;124mOutlet_Identifier\u001b[39m\u001b[38;5;124m'\u001b[39m, \u001b[38;5;124m'\u001b[39m\u001b[38;5;124mItem_Outlet_Sales\u001b[39m\u001b[38;5;124m'\u001b[39m])\n\u001b[0;32m      2\u001b[0m y \u001b[38;5;241m=\u001b[39m df_train[\u001b[38;5;124m'\u001b[39m\u001b[38;5;124mItem_Outlet_Sales\u001b[39m\u001b[38;5;124m'\u001b[39m]\n",
      "\u001b[1;31mAttributeError\u001b[0m: 'function' object has no attribute 'drop'"
     ]
    }
   ],
   "source": [
    "x = df_train.drop(Columns = ['Outlet_Establishment_Year', 'Item_Identifier', 'Outlet_Identifier', 'Item_Outlet_Sales'])\n",
    "y = df_train['Item_Outlet_Sales']"
   ]
  },
  {
   "cell_type": "markdown",
   "id": "1846ec72",
   "metadata": {},
   "source": [
    "## Model Traning"
   ]
  },
  {
   "cell_type": "code",
   "execution_count": 237,
   "id": "9442f505",
   "metadata": {},
   "outputs": [],
   "source": [
    "from sklearn.model_selection import cross_val_score\n",
    "from sklearn.metrics import mean_squared_error\n",
    "def df_train(model, x, y):\n",
    "    model = fit(x, y)\n",
    "    pred = model.predict(x)\n",
    "    cv_score = cross_val_score(model, x, y, scoring = 'mean_squared_error')\n",
    "    print('Model Report')\n",
    "    print(\"MSE:\", mean_squared_error(y,pred))\n",
    "    print(\"cv_score:\", cv_score)"
   ]
  },
  {
   "cell_type": "code",
   "execution_count": 250,
   "id": "8ffb0721",
   "metadata": {},
   "outputs": [
    {
     "ename": "NameError",
     "evalue": "name 'y' is not defined",
     "output_type": "error",
     "traceback": [
      "\u001b[1;31m---------------------------------------------------------------------------\u001b[0m",
      "\u001b[1;31mNameError\u001b[0m                                 Traceback (most recent call last)",
      "Input \u001b[1;32mIn [250]\u001b[0m, in \u001b[0;36m<cell line: 3>\u001b[1;34m()\u001b[0m\n\u001b[0;32m      1\u001b[0m \u001b[38;5;28;01mfrom\u001b[39;00m \u001b[38;5;21;01msklearn\u001b[39;00m\u001b[38;5;21;01m.\u001b[39;00m\u001b[38;5;21;01mlinear_model\u001b[39;00m \u001b[38;5;28;01mimport\u001b[39;00m LinearRegression, Ridge, Lasso \n\u001b[0;32m      2\u001b[0m model \u001b[38;5;241m=\u001b[39m LinearRegression(normalize \u001b[38;5;241m=\u001b[39m \u001b[38;5;28;01mTrue\u001b[39;00m)\n\u001b[1;32m----> 3\u001b[0m df_train(model, x, \u001b[43my\u001b[49m)\n\u001b[0;32m      4\u001b[0m coef \u001b[38;5;241m=\u001b[39m pd\u001b[38;5;241m.\u001b[39mSeries(model\u001b[38;5;241m.\u001b[39mcoef_, x\u001b[38;5;241m.\u001b[39mcolumns)\u001b[38;5;241m.\u001b[39msort_values()\n\u001b[0;32m      5\u001b[0m coef\u001b[38;5;241m.\u001b[39mplot(kind \u001b[38;5;241m=\u001b[39m \u001b[38;5;124m'\u001b[39m\u001b[38;5;124mbar\u001b[39m\u001b[38;5;124m'\u001b[39m, title \u001b[38;5;241m=\u001b[39m \u001b[38;5;124m\"\u001b[39m\u001b[38;5;124mmodel coefficients\u001b[39m\u001b[38;5;124m\"\u001b[39m)\n",
      "\u001b[1;31mNameError\u001b[0m: name 'y' is not defined"
     ]
    }
   ],
   "source": [
    "from sklearn.linear_model import LinearRegression, Ridge, Lasso \n",
    "model = LinearRegression(normalize = True)\n",
    "df_train(model, x, y)\n",
    "coef = pd.Series(model.coef_, x.columns).sort_values()\n",
    "coef.plot(kind = 'bar', title = \"model coefficients\")"
   ]
  },
  {
   "cell_type": "code",
   "execution_count": 251,
   "id": "77b6af26",
   "metadata": {},
   "outputs": [
    {
     "ename": "NameError",
     "evalue": "name 'train' is not defined",
     "output_type": "error",
     "traceback": [
      "\u001b[1;31m---------------------------------------------------------------------------\u001b[0m",
      "\u001b[1;31mNameError\u001b[0m                                 Traceback (most recent call last)",
      "Input \u001b[1;32mIn [251]\u001b[0m, in \u001b[0;36m<cell line: 2>\u001b[1;34m()\u001b[0m\n\u001b[0;32m      1\u001b[0m model \u001b[38;5;241m=\u001b[39m Ridge(normalize \u001b[38;5;241m=\u001b[39m \u001b[38;5;28;01mTrue\u001b[39;00m)\n\u001b[1;32m----> 2\u001b[0m \u001b[43mtrain\u001b[49m(model, x, y)\n\u001b[0;32m      3\u001b[0m coef \u001b[38;5;241m=\u001b[39m pd\u001b[38;5;241m.\u001b[39mSeries(model\u001b[38;5;241m.\u001b[39mcoef_, x\u001b[38;5;241m.\u001b[39mcolumns)\u001b[38;5;241m.\u001b[39msort_values()\n\u001b[0;32m      4\u001b[0m coef\u001b[38;5;241m.\u001b[39mplot(kind \u001b[38;5;241m=\u001b[39m \u001b[38;5;124m'\u001b[39m\u001b[38;5;124mbar\u001b[39m\u001b[38;5;124m'\u001b[39m, title \u001b[38;5;241m=\u001b[39m \u001b[38;5;124m\"\u001b[39m\u001b[38;5;124mmodel coefficients\u001b[39m\u001b[38;5;124m\"\u001b[39m)\n",
      "\u001b[1;31mNameError\u001b[0m: name 'train' is not defined"
     ]
    }
   ],
   "source": [
    "model = Ridge(normalize = True)\n",
    "train(model, x, y)\n",
    "coef = pd.Series(model.coef_, x.columns).sort_values()\n",
    "coef.plot(kind = 'bar', title = \"model coefficients\")"
   ]
  },
  {
   "cell_type": "code",
   "execution_count": 247,
   "id": "f5d40147",
   "metadata": {},
   "outputs": [
    {
     "ename": "NameError",
     "evalue": "name 'train' is not defined",
     "output_type": "error",
     "traceback": [
      "\u001b[1;31m---------------------------------------------------------------------------\u001b[0m",
      "\u001b[1;31mNameError\u001b[0m                                 Traceback (most recent call last)",
      "Input \u001b[1;32mIn [247]\u001b[0m, in \u001b[0;36m<cell line: 2>\u001b[1;34m()\u001b[0m\n\u001b[0;32m      1\u001b[0m model \u001b[38;5;241m=\u001b[39m Lasso()\n\u001b[1;32m----> 2\u001b[0m \u001b[43mtrain\u001b[49m(model, x, y)\n\u001b[0;32m      3\u001b[0m coef \u001b[38;5;241m=\u001b[39m pd\u001b[38;5;241m.\u001b[39mSeries(model\u001b[38;5;241m.\u001b[39mcoef_, x\u001b[38;5;241m.\u001b[39mcolumns)\u001b[38;5;241m.\u001b[39msort_values()\n\u001b[0;32m      4\u001b[0m coef\u001b[38;5;241m.\u001b[39mplot(kind \u001b[38;5;241m=\u001b[39m \u001b[38;5;124m'\u001b[39m\u001b[38;5;124mbar\u001b[39m\u001b[38;5;124m'\u001b[39m, title \u001b[38;5;241m=\u001b[39m \u001b[38;5;124m\"\u001b[39m\u001b[38;5;124mmodel coefficients\u001b[39m\u001b[38;5;124m\"\u001b[39m)\n",
      "\u001b[1;31mNameError\u001b[0m: name 'train' is not defined"
     ]
    }
   ],
   "source": [
    "model = Lasso()\n",
    "train(model, x, y)\n",
    "coef = pd.Series(model.coef_, x.columns).sort_values()\n",
    "coef.plot(kind = 'bar', title = \"model coefficients\")"
   ]
  },
  {
   "cell_type": "code",
   "execution_count": 170,
   "id": "0f6faafb",
   "metadata": {},
   "outputs": [
    {
     "ename": "NameError",
     "evalue": "name 'train' is not defined",
     "output_type": "error",
     "traceback": [
      "\u001b[1;31m---------------------------------------------------------------------------\u001b[0m",
      "\u001b[1;31mNameError\u001b[0m                                 Traceback (most recent call last)",
      "Input \u001b[1;32mIn [170]\u001b[0m, in \u001b[0;36m<cell line: 3>\u001b[1;34m()\u001b[0m\n\u001b[0;32m      1\u001b[0m \u001b[38;5;28;01mfrom\u001b[39;00m \u001b[38;5;21;01msklearn\u001b[39;00m\u001b[38;5;21;01m.\u001b[39;00m\u001b[38;5;21;01mtree\u001b[39;00m \u001b[38;5;28;01mimport\u001b[39;00m DecisionTreeRegressor \n\u001b[0;32m      2\u001b[0m model \u001b[38;5;241m=\u001b[39m DecisionTreeRegressor()\n\u001b[1;32m----> 3\u001b[0m \u001b[43mtrain\u001b[49m(model, x, y)\n\u001b[0;32m      4\u001b[0m coef \u001b[38;5;241m=\u001b[39m pd\u001b[38;5;241m.\u001b[39mSeries(model\u001b[38;5;241m.\u001b[39mfeature_importances_, x\u001b[38;5;241m.\u001b[39mcolumns)\u001b[38;5;241m.\u001b[39msort_values(ascending \u001b[38;5;241m=\u001b[39m \u001b[38;5;28;01mFalse\u001b[39;00m)\n\u001b[0;32m      5\u001b[0m coef\u001b[38;5;241m.\u001b[39mplot(kind \u001b[38;5;241m=\u001b[39m \u001b[38;5;124m'\u001b[39m\u001b[38;5;124mbar\u001b[39m\u001b[38;5;124m'\u001b[39m, title \u001b[38;5;241m=\u001b[39m \u001b[38;5;124m\"\u001b[39m\u001b[38;5;124mfeature Importances\u001b[39m\u001b[38;5;124m\"\u001b[39m)\n",
      "\u001b[1;31mNameError\u001b[0m: name 'train' is not defined"
     ]
    }
   ],
   "source": [
    "from sklearn.tree import DecisionTreeRegressor \n",
    "model = DecisionTreeRegressor()\n",
    "train(model, x, y)\n",
    "coef = pd.Series(model.feature_importances_, x.columns).sort_values(ascending = False)\n",
    "coef.plot(kind = 'bar', title = \"feature Importances\")"
   ]
  },
  {
   "cell_type": "code",
   "execution_count": 174,
   "id": "99acb6be",
   "metadata": {},
   "outputs": [
    {
     "ename": "NameError",
     "evalue": "name 'train' is not defined",
     "output_type": "error",
     "traceback": [
      "\u001b[1;31m---------------------------------------------------------------------------\u001b[0m",
      "\u001b[1;31mNameError\u001b[0m                                 Traceback (most recent call last)",
      "Input \u001b[1;32mIn [174]\u001b[0m, in \u001b[0;36m<cell line: 3>\u001b[1;34m()\u001b[0m\n\u001b[0;32m      1\u001b[0m \u001b[38;5;28;01mfrom\u001b[39;00m \u001b[38;5;21;01msklearn\u001b[39;00m\u001b[38;5;21;01m.\u001b[39;00m\u001b[38;5;21;01mensemble\u001b[39;00m \u001b[38;5;28;01mimport\u001b[39;00m RandomForestRegressor \n\u001b[0;32m      2\u001b[0m model \u001b[38;5;241m=\u001b[39m RandomForestRegressor()\n\u001b[1;32m----> 3\u001b[0m \u001b[43mtrain\u001b[49m(model, x, y)\n\u001b[0;32m      4\u001b[0m coef \u001b[38;5;241m=\u001b[39m pd\u001b[38;5;241m.\u001b[39mSeries(model\u001b[38;5;241m.\u001b[39mfeature_importances_, x\u001b[38;5;241m.\u001b[39mcolumns)\u001b[38;5;241m.\u001b[39msort_values(ascending \u001b[38;5;241m=\u001b[39m \u001b[38;5;28;01mFalse\u001b[39;00m)\n\u001b[0;32m      5\u001b[0m coef\u001b[38;5;241m.\u001b[39mplot(kind \u001b[38;5;241m=\u001b[39m \u001b[38;5;124m'\u001b[39m\u001b[38;5;124mbar\u001b[39m\u001b[38;5;124m'\u001b[39m, title \u001b[38;5;241m=\u001b[39m \u001b[38;5;124m\"\u001b[39m\u001b[38;5;124mfeature Importances\u001b[39m\u001b[38;5;124m\"\u001b[39m)\n",
      "\u001b[1;31mNameError\u001b[0m: name 'train' is not defined"
     ]
    }
   ],
   "source": [
    "from sklearn.ensemble import RandomForestRegressor \n",
    "model = RandomForestRegressor()\n",
    "train(model, x, y)\n",
    "coef = pd.Series(model.feature_importances_, x.columns).sort_values(ascending = False)\n",
    "coef.plot(kind = 'bar', title = \"feature Importances\")"
   ]
  },
  {
   "cell_type": "code",
   "execution_count": 252,
   "id": "c5742543",
   "metadata": {},
   "outputs": [
    {
     "ename": "NameError",
     "evalue": "name 'train' is not defined",
     "output_type": "error",
     "traceback": [
      "\u001b[1;31m---------------------------------------------------------------------------\u001b[0m",
      "\u001b[1;31mNameError\u001b[0m                                 Traceback (most recent call last)",
      "Input \u001b[1;32mIn [252]\u001b[0m, in \u001b[0;36m<cell line: 3>\u001b[1;34m()\u001b[0m\n\u001b[0;32m      1\u001b[0m \u001b[38;5;28;01mfrom\u001b[39;00m \u001b[38;5;21;01msklearn\u001b[39;00m\u001b[38;5;21;01m.\u001b[39;00m\u001b[38;5;21;01mensemble\u001b[39;00m \u001b[38;5;28;01mimport\u001b[39;00m ExtraTreesRegressor \n\u001b[0;32m      2\u001b[0m model \u001b[38;5;241m=\u001b[39m ExtraTreesRegressor()\n\u001b[1;32m----> 3\u001b[0m \u001b[43mtrain\u001b[49m(model, x, y)\n\u001b[0;32m      4\u001b[0m coef \u001b[38;5;241m=\u001b[39m pd\u001b[38;5;241m.\u001b[39mSeries(model\u001b[38;5;241m.\u001b[39mfeature_importances_, x\u001b[38;5;241m.\u001b[39mcolumns)\u001b[38;5;241m.\u001b[39msort_values(ascending \u001b[38;5;241m=\u001b[39m \u001b[38;5;28;01mFalse\u001b[39;00m)\n\u001b[0;32m      5\u001b[0m coef\u001b[38;5;241m.\u001b[39mplot(kind \u001b[38;5;241m=\u001b[39m \u001b[38;5;124m'\u001b[39m\u001b[38;5;124mbar\u001b[39m\u001b[38;5;124m'\u001b[39m, title \u001b[38;5;241m=\u001b[39m \u001b[38;5;124m\"\u001b[39m\u001b[38;5;124mfeature Importances\u001b[39m\u001b[38;5;124m\"\u001b[39m)\n",
      "\u001b[1;31mNameError\u001b[0m: name 'train' is not defined"
     ]
    }
   ],
   "source": [
    "from sklearn.ensemble import ExtraTreesRegressor \n",
    "model = ExtraTreesRegressor()\n",
    "train(model, x, y)\n",
    "coef = pd.Series(model.feature_importances_, x.columns).sort_values(ascending = False)\n",
    "coef.plot(kind = 'bar', title = \"feature Importances\")"
   ]
  },
  {
   "cell_type": "code",
   "execution_count": null,
   "id": "d25cfce2",
   "metadata": {},
   "outputs": [],
   "source": []
  }
 ],
 "metadata": {
  "kernelspec": {
   "display_name": "Python 3 (ipykernel)",
   "language": "python",
   "name": "python3"
  },
  "language_info": {
   "codemirror_mode": {
    "name": "ipython",
    "version": 3
   },
   "file_extension": ".py",
   "mimetype": "text/x-python",
   "name": "python",
   "nbconvert_exporter": "python",
   "pygments_lexer": "ipython3",
   "version": "3.9.12"
  }
 },
 "nbformat": 4,
 "nbformat_minor": 5
}
