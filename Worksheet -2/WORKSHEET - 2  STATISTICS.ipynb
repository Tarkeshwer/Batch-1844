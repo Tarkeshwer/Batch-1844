{
 "cells": [
  {
   "cell_type": "markdown",
   "id": "46bf180a",
   "metadata": {},
   "source": [
    "# STATISTICS WORKSHEET - 2"
   ]
  },
  {
   "cell_type": "code",
   "execution_count": 2,
   "id": "59c16f41",
   "metadata": {},
   "outputs": [],
   "source": [
    "# Q1 to Q15 have only one correct answer. Choose the correct option to answer your question."
   ]
  },
  {
   "cell_type": "raw",
   "id": "b6eabd6b",
   "metadata": {},
   "source": [
    "1. What represent a population parameter?\n",
    "C) both\n",
    "\n",
    "2. What will be median of following set of scores (18,6,12,10,15)?\n",
    "C) 12\n",
    "\n",
    "3. What is standard deviation?\n",
    "C) The square root of the variance\n",
    "\n",
    "4. The intervals should be ______ in a grouped frequency distribution\n",
    "C) Both of these\n",
    "\n",
    "5. What is the goal of descriptive statistics?\n",
    "B) Summarizing and explaining a specific set of data\n",
    "\n",
    "6. A set of data organized in a participant by variables format is called\n",
    "B) Data set\n",
    "\n",
    "7. In multiple regression,_______ independent variables are used\n",
    "A) 2 or more\n",
    "\n",
    "8. Which of the following is used when you want to visually examine the relationship between 2 quantitative\n",
    "variables?\n",
    "B) Scatterplot\n",
    "\n",
    "9. Two or more groups means are compared by using\n",
    "D) Analysis of variance\n",
    "\n",
    "10. _______is a raw score which has been transformed into standard deviation units?\n",
    "A) Z-score\n",
    "\n",
    "11. _______is the value calculated when you want the arithmetic average?\n",
    "C) mean\n",
    "\n",
    "12. Find the mean of these set of number (4,6,7,9,2000000)?\n",
    "D) 400005.2\n",
    "\n",
    "13. _______ is a measure of central tendency that takes into account the magnitude of scores?\n",
    "D) Mean\n",
    "\n",
    "14. ______ focuses on describing or explaining data whereas ______involves going beyond immediate\n",
    "data and making inferences\n",
    "A) Descriptive and inferences\n",
    "\n",
    "15. What is the formula for range?\n",
    "D) H-L"
   ]
  },
  {
   "cell_type": "code",
   "execution_count": null,
   "id": "0f14d342",
   "metadata": {},
   "outputs": [],
   "source": []
  }
 ],
 "metadata": {
  "kernelspec": {
   "display_name": "Python 3 (ipykernel)",
   "language": "python",
   "name": "python3"
  },
  "language_info": {
   "codemirror_mode": {
    "name": "ipython",
    "version": 3
   },
   "file_extension": ".py",
   "mimetype": "text/x-python",
   "name": "python",
   "nbconvert_exporter": "python",
   "pygments_lexer": "ipython3",
   "version": "3.9.12"
  }
 },
 "nbformat": 4,
 "nbformat_minor": 5
}
