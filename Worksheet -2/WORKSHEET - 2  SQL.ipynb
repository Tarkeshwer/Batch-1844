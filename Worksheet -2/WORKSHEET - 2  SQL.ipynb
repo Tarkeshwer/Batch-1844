{
 "cells": [
  {
   "cell_type": "markdown",
   "id": "41463cb9",
   "metadata": {},
   "source": [
    "# WORKSHEET 2 SQL"
   ]
  },
  {
   "cell_type": "code",
   "execution_count": 1,
   "id": "9c45bd17",
   "metadata": {},
   "outputs": [],
   "source": [
    "# Q1 to Q13 have only one correct answer. Choose the correct option to answer your question."
   ]
  },
  {
   "cell_type": "raw",
   "id": "ed94950d",
   "metadata": {},
   "source": [
    "1. Which of the following constraint requires that there should not be duplicate entries?\n",
    "D) Unique\n",
    "\n",
    "2. Which of the following constraint allows null values in a column?\n",
    "C) Null \n",
    "\n",
    "3. Which of the following statements are true regarding Primary Key?\n",
    "A) Each entry in the primary key uniquely identifies each entry or row in the table\n",
    "\n",
    "4. Which of the following statements are true regarding Unique Key?\n",
    "D) All of the above\n",
    "\n",
    "5. Which of the following is/are example of referential constraint?\n",
    "B) Foreign Key"
   ]
  },
  {
   "cell_type": "code",
   "execution_count": 2,
   "id": "97beccdf",
   "metadata": {},
   "outputs": [],
   "source": [
    "# For Questions 6-13 refer to the below diagram and answer the questions:"
   ]
  },
  {
   "cell_type": "raw",
   "id": "c8a65171",
   "metadata": {},
   "source": [
    "6. How many foreign keys are there in the Supplier table?\n",
    "C) 2\n",
    "\n",
    "7. The type of relationship between Supplier table and Product table is:\n",
    "C) one to one \n",
    "\n",
    "8. The type of relationship between Order table and Headquarter table is:\n",
    "A) one to many B) many to one\n",
    "ASSIGNMENT\n",
    "C) one to one D) many to many\n",
    "\n",
    "9. Which of the following is a foreign key in Delivery table?\n",
    "B) supplier id\n",
    "\n",
    "10. The number of foreign keys in order details is:\n",
    "D) 2\n",
    "\n",
    "11. The type of relationship between Order Detail table and Product table is:\n",
    "C) one to one\n",
    "\n",
    "12. DDL statements perform operation on which of the following database objects?\n",
    "A) Rows of table \n",
    "\n",
    "13. Which of the following statement is used to enter rows in a table?\n",
    "D) Set Row"
   ]
  },
  {
   "cell_type": "code",
   "execution_count": 3,
   "id": "35f0dd1e",
   "metadata": {},
   "outputs": [],
   "source": [
    "# Q14 and Q15 have one or more correct answer. Choose all the correct option to answer your question."
   ]
  },
  {
   "cell_type": "raw",
   "id": "12999a7c",
   "metadata": {},
   "source": [
    "14. Which of the following is/are entity constraints in SQL?\n",
    "B) Unique\n",
    "C) Primary Key\n",
    "\n",
    "15. Which of the following statements is an example of semantic Constraint?\n",
    "A) A blood group can contain one of the following values - A, B, AB and O.\n",
    "D) Two or more donors can have same blood group"
   ]
  },
  {
   "cell_type": "code",
   "execution_count": null,
   "id": "b20dc358",
   "metadata": {},
   "outputs": [],
   "source": []
  }
 ],
 "metadata": {
  "kernelspec": {
   "display_name": "Python 3 (ipykernel)",
   "language": "python",
   "name": "python3"
  },
  "language_info": {
   "codemirror_mode": {
    "name": "ipython",
    "version": 3
   },
   "file_extension": ".py",
   "mimetype": "text/x-python",
   "name": "python",
   "nbconvert_exporter": "python",
   "pygments_lexer": "ipython3",
   "version": "3.9.12"
  }
 },
 "nbformat": 4,
 "nbformat_minor": 5
}
