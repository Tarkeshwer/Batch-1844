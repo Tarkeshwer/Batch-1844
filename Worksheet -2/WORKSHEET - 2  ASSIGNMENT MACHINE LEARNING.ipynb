{
 "cells": [
  {
   "cell_type": "markdown",
   "id": "7f3a77d8",
   "metadata": {},
   "source": [
    "# ASSIGNMENT – 2 MACHINE LEARNING"
   ]
  },
  {
   "cell_type": "markdown",
   "id": "49d4122c",
   "metadata": {},
   "source": [
    "Q1 to Q11 have only one correct answer. Choose the correct option to answer your question."
   ]
  },
  {
   "cell_type": "raw",
   "id": "7e920398",
   "metadata": {},
   "source": [
    "1. Movie Recommendation systems are an example of:\n",
    "i) Classification\n",
    "ii) Clustering\n",
    "iii) Regression\n",
    "Options:\n",
    "a) 2 Only"
   ]
  },
  {
   "cell_type": "raw",
   "id": "e6220db9",
   "metadata": {},
   "source": [
    "2. Sentiment Analysis is an example of:\n",
    "i) Regression\n",
    "ii) Classification\n",
    "iii) Clustering\n",
    "iv) Reinforcement\n",
    "Options:\n",
    "c) 1 and 3"
   ]
  },
  {
   "cell_type": "raw",
   "id": "4ad603c5",
   "metadata": {},
   "source": [
    "3. Can decision trees be used for performing clustering?\n",
    "a) True"
   ]
  },
  {
   "cell_type": "raw",
   "id": "9a0711ae",
   "metadata": {},
   "source": [
    "4. Which of the following is the most appropriate strategy for data cleaning before performing clustering\n",
    "analysis, given less than desirable number of data points:\n",
    "i) Capping and flooring of variables\n",
    "ii) Removal of outliers\n",
    "Options:\n",
    "a) 1 only"
   ]
  },
  {
   "cell_type": "raw",
   "id": "db8d7ce5",
   "metadata": {},
   "source": [
    "5. What is the minimum no. of variables/ features required to perform clustering?\n",
    "b) 1"
   ]
  },
  {
   "cell_type": "raw",
   "id": "446da48b",
   "metadata": {},
   "source": [
    "6. For two runs of K-Mean clustering is it expected to get same clustering results?\n",
    "b) No"
   ]
  },
  {
   "cell_type": "raw",
   "id": "eb10b59a",
   "metadata": {},
   "source": [
    "7. Is it possible that Assignment of observations to clusters does not change between successive\n",
    "iterations in K-Means?\n",
    "a) Yes"
   ]
  },
  {
   "cell_type": "raw",
   "id": "e3085c32",
   "metadata": {},
   "source": [
    "8. Which of the following can act as possible termination conditions in K-Means?\n",
    "i) For a fixed number of iterations.\n",
    "ii) Assignment of observations to clusters does not change between iterations. Except for cases\n",
    "witha bad local minimum.\n",
    "iii) Centroids do not change between successive iterations.\n",
    "iv) Terminate when RSS falls below a threshold.\n",
    "\n",
    "d) All of the above"
   ]
  },
  {
   "cell_type": "raw",
   "id": "5a9ba976",
   "metadata": {},
   "source": [
    "9. Which of the following algorithms is most sensitive to outliers?\n",
    "a) K-means clustering algorithm"
   ]
  },
  {
   "cell_type": "raw",
   "id": "c52e87ba",
   "metadata": {},
   "source": [
    "10. How can Clustering (Unsupervised Learning) be used to improve the accuracy of Linear Regression\n",
    "model (Supervised Learning):\n",
    "i) Creating different models for different cluster groups.\n",
    "ii) Creating an input feature for cluster ids as an ordinal variable.\n",
    "iii) Creating an input feature for cluster centroids as a continuous variable.\n",
    "iv) Creating an input feature for cluster size as a continuous variable.\n",
    "\n",
    "d) All of the above"
   ]
  },
  {
   "cell_type": "raw",
   "id": "e9499aa6",
   "metadata": {},
   "source": [
    "11. What could be the possible reason(s) for producing two different dendrograms using agglomerative\n",
    "clustering algorithms for the same dataset?\n",
    "\n",
    "d) All of the above"
   ]
  },
  {
   "cell_type": "markdown",
   "id": "1aed80e3",
   "metadata": {},
   "source": [
    "Q12 to Q14 are subjective answers type questions, Answers them in their own words briefly"
   ]
  },
  {
   "cell_type": "raw",
   "id": "dba0c978",
   "metadata": {},
   "source": [
    "12. Is K sensitive to outliers?\n",
    "\n",
    "Ans: K-Means clustering algorithm is sensetive to outlier, because a mean is easly influenced by extream value. K-medoids clustring is a variant of k-means that is more rebust to noise and outliers. The algorithm aims to minimize the squared Euclidean distances between the observation and the centroid of cluster to which it belongs. But sometime K-Means algorithm does not give best results. It is sensitive to outliers.     "
   ]
  },
  {
   "cell_type": "raw",
   "id": "90a1fba0",
   "metadata": {},
   "source": [
    "13. Why is K means better?\n",
    "\n",
    "Ans: K-means is better because its easily adapt to new examples. it can warm start the positions of centroids. Generalizes to clusters of diffrent shapes and sizes, such as elliptical clusters.\n",
    "\n",
    "some of following advantage of k-means:\n",
    "1. Relatively simple implementation \n",
    "2. Easily adapt to new examples\n",
    "3. Guarantees convergence\n",
    "4. Scale to large dataset\n",
    "5. Can warm-start the positions\n",
    "6. Generalizes to clusters of diffrent shapes and sizes"
   ]
  },
  {
   "cell_type": "raw",
   "id": "5f8ff417",
   "metadata": {},
   "source": [
    "14. Is K means a deterministic algorithm?\n",
    "\n",
    "Ans: The basicaly k-means clustering is based on a non-deterministic algorithm. it is One of the significant drawbacks. This means that running the algorithm several times on the same data, could give different results. it start with random set of data points as initial centroids. DEterministic initialization of the k-means algorithm using Hierarchical clustring. it is undoubtedly the most widely used partitional clustring algorithm. "
   ]
  }
 ],
 "metadata": {
  "kernelspec": {
   "display_name": "Python 3 (ipykernel)",
   "language": "python",
   "name": "python3"
  },
  "language_info": {
   "codemirror_mode": {
    "name": "ipython",
    "version": 3
   },
   "file_extension": ".py",
   "mimetype": "text/x-python",
   "name": "python",
   "nbconvert_exporter": "python",
   "pygments_lexer": "ipython3",
   "version": "3.9.12"
  }
 },
 "nbformat": 4,
 "nbformat_minor": 5
}
